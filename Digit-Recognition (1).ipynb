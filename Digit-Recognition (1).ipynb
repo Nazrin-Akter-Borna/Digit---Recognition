{
 "cells": [
  {
   "cell_type": "code",
   "execution_count": 1,
   "metadata": {},
   "outputs": [],
   "source": [
    "import pandas as pd\n",
    "import matplotlib.pyplot as plt\n",
    "%matplotlib inline"
   ]
  },
  {
   "cell_type": "code",
   "execution_count": 2,
   "metadata": {},
   "outputs": [],
   "source": [
    "from sklearn.datasets import load_digits"
   ]
  },
  {
   "cell_type": "code",
   "execution_count": 3,
   "metadata": {},
   "outputs": [],
   "source": [
    "digits = load_digits()"
   ]
  },
  {
   "cell_type": "code",
   "execution_count": 4,
   "metadata": {},
   "outputs": [
    {
     "data": {
      "text/plain": [
       "['DESCR', 'data', 'images', 'target', 'target_names']"
      ]
     },
     "execution_count": 4,
     "metadata": {},
     "output_type": "execute_result"
    }
   ],
   "source": [
    "dir(digits) "
   ]
  },
  {
   "cell_type": "code",
   "execution_count": 5,
   "metadata": {},
   "outputs": [
    {
     "data": {
      "text/plain": [
       "array([ 0.,  0.,  5., 13.,  9.,  1.,  0.,  0.,  0.,  0., 13., 15., 10.,\n",
       "       15.,  5.,  0.,  0.,  3., 15.,  2.,  0., 11.,  8.,  0.,  0.,  4.,\n",
       "       12.,  0.,  0.,  8.,  8.,  0.,  0.,  5.,  8.,  0.,  0.,  9.,  8.,\n",
       "        0.,  0.,  4., 11.,  0.,  1., 12.,  7.,  0.,  0.,  2., 14.,  5.,\n",
       "       10., 12.,  0.,  0.,  0.,  0.,  6., 13., 10.,  0.,  0.,  0.])"
      ]
     },
     "execution_count": 5,
     "metadata": {},
     "output_type": "execute_result"
    }
   ],
   "source": [
    "digits.data[0]"
   ]
  },
  {
   "cell_type": "code",
   "execution_count": 6,
   "metadata": {},
   "outputs": [
    {
     "data": {
      "text/plain": [
       "<Figure size 432x288 with 0 Axes>"
      ]
     },
     "metadata": {},
     "output_type": "display_data"
    },
    {
     "data": {
      "image/png": "[encoded data removed]",
      "text/plain": [
       "<Figure size 288x288 with 1 Axes>"
      ]
     },
     "metadata": {
      "needs_background": "light"
     },
     "output_type": "display_data"
    },
    {
     "data": {
      "image/png": "[encoded data removed]",
      "text/plain": [
       "<Figure size 288x288 with 1 Axes>"
      ]
     },
     "metadata": {
      "needs_background": "light"
     },
     "output_type": "display_data"
    },
    {
     "data": {
      "image/png": "[encoded data removed]",
      "text/plain": [
       "<Figure size 288x288 with 1 Axes>"
      ]
     },
     "metadata": {
      "needs_background": "light"
     },
     "output_type": "display_data"
    },
    {
     "data": {
      "image/png": "[encoded data removed]",
      "text/plain": [
       "<Figure size 288x288 with 1 Axes>"
      ]
     },
     "metadata": {
      "needs_background": "light"
     },
     "output_type": "display_data"
    },
    {
     "data": {
      "image/png": "[encoded data removed]",
      "text/plain": [
       "<Figure size 288x288 with 1 Axes>"
      ]
     },
     "metadata": {
      "needs_background": "light"
     },
     "output_type": "display_data"
    }
   ],
   "source": [
    "plt.gray()\n",
    "for i in range (5):\n",
    "    plt.matshow(digits.images[i])"
   ]
  },
  {
   "cell_type": "code",
   "execution_count": 7,
   "metadata": {},
   "outputs": [
    {
     "data": {
      "text/plain": [
       "array([0, 1, 2, 3, 4])"
      ]
     },
     "execution_count": 7,
     "metadata": {},
     "output_type": "execute_result"
    }
   ],
   "source": [
    "digits.target[0:5]"
   ]
  },
  {
   "cell_type": "code",
   "execution_count": 8,
   "metadata": {},
   "outputs": [],
   "source": [
    "from sklearn.model_selection import train_test_split"
   ]
  },
  {
   "cell_type": "code",
   "execution_count": 9,
   "metadata": {},
   "outputs": [],
   "source": [
    "x_train,x_test,y_train,y_test = train_test_split(digits.data, digits.target, test_size = .4)"
   ]
  },
  {
   "cell_type": "code",
   "execution_count": 10,
   "metadata": {},
   "outputs": [
    {
     "data": {
      "text/plain": [
       "array([[ 0.,  0.,  4., ...,  1.,  0.,  0.],\n",
       "       [ 0.,  0., 11., ..., 13., 11.,  0.],\n",
       "       [ 0.,  0.,  2., ..., 16., 16.,  7.],\n",
       "       ...,\n",
       "       [ 0.,  0.,  0., ..., 14.,  0.,  0.],\n",
       "       [ 0.,  0.,  0., ..., 16.,  4.,  0.],\n",
       "       [ 0.,  0.,  0., ...,  6.,  0.,  0.]])"
      ]
     },
     "execution_count": 10,
     "metadata": {},
     "output_type": "execute_result"
    }
   ],
   "source": [
    "x_train"
   ]
  },
  {
   "cell_type": "code",
   "execution_count": 11,
   "metadata": {},
   "outputs": [
    {
     "data": {
      "text/plain": [
       "1078"
      ]
     },
     "execution_count": 11,
     "metadata": {},
     "output_type": "execute_result"
    }
   ],
   "source": [
    "len(x_train)\n"
   ]
  },
  {
   "cell_type": "code",
   "execution_count": 12,
   "metadata": {},
   "outputs": [
    {
     "data": {
      "text/plain": [
       "719"
      ]
     },
     "execution_count": 12,
     "metadata": {},
     "output_type": "execute_result"
    }
   ],
   "source": [
    "len(x_test)"
   ]
  },
  {
   "cell_type": "code",
   "execution_count": 13,
   "metadata": {},
   "outputs": [],
   "source": [
    "from sklearn.linear_model import LogisticRegression\n",
    "model = LogisticRegression()"
   ]
  },
  {
   "cell_type": "code",
   "execution_count": 14,
   "metadata": {},
   "outputs": [
    {
     "name": "stderr",
     "output_type": "stream",
     "text": [
      "C:\\Users\\Moon PC\\AppData\\Local\\Continuum\\anaconda3\\lib\\site-packages\\sklearn\\linear_model\\logistic.py:432: FutureWarning: Default solver will be changed to 'lbfgs' in 0.22. Specify a solver to silence this warning.\n",
      "  FutureWarning)\n",
      "C:\\Users\\Moon PC\\AppData\\Local\\Continuum\\anaconda3\\lib\\site-packages\\sklearn\\linear_model\\logistic.py:469: FutureWarning: Default multi_class will be changed to 'auto' in 0.22. Specify the multi_class option to silence this warning.\n",
      "  \"this warning.\", FutureWarning)\n"
     ]
    },
    {
     "data": {
      "text/plain": [
       "LogisticRegression(C=1.0, class_weight=None, dual=False, fit_intercept=True,\n",
       "                   intercept_scaling=1, l1_ratio=None, max_iter=100,\n",
       "                   multi_class='warn', n_jobs=None, penalty='l2',\n",
       "                   random_state=None, solver='warn', tol=0.0001, verbose=0,\n",
       "                   warm_start=False)"
      ]
     },
     "execution_count": 14,
     "metadata": {},
     "output_type": "execute_result"
    }
   ],
   "source": [
    "model.fit(x_train,y_train)"
   ]
  },
  {
   "cell_type": "code",
   "execution_count": 15,
   "metadata": {},
   "outputs": [
    {
     "data": {
      "text/plain": [
       "array([4, 0, 5, 4, 2, 5, 6, 5, 7, 1, 0, 8, 7, 5, 3, 4, 0, 0, 4, 1, 2, 9,\n",
       "       7, 3, 3, 3, 7, 2, 0, 2, 5, 7, 2, 2, 8, 7, 9, 8, 0, 5, 1, 9, 0, 1,\n",
       "       7, 6, 6, 3, 3, 8, 6, 8, 7, 3, 4, 3, 4, 1, 9, 7, 8, 9, 8, 8, 1, 1,\n",
       "       4, 9, 0, 0, 9, 2, 3, 7, 4, 2, 3, 5, 9, 5, 0, 8, 3, 2, 5, 5, 6, 6,\n",
       "       5, 2, 8, 2, 0, 6, 6, 6, 0, 2, 0, 4, 5, 7, 9, 0, 0, 2, 0, 1, 8, 3,\n",
       "       5, 2, 5, 1, 9, 1, 3, 5, 6, 4, 7, 4, 2, 4, 2, 0, 2, 8, 2, 3, 2, 3,\n",
       "       9, 2, 9, 3, 8, 7, 8, 4, 9, 7, 7, 6, 4, 5, 9, 7, 6, 9, 3, 8, 6, 6,\n",
       "       0, 2, 1, 2, 6, 0, 9, 6, 4, 1, 4, 7, 3, 1, 3, 4, 0, 7, 5, 3, 5, 8,\n",
       "       3, 3, 4, 6, 5, 3, 9, 5, 8, 5, 3, 9, 2, 7, 4, 3, 7, 6, 5, 6, 9, 7,\n",
       "       9, 4, 8, 0, 1, 3, 2, 0, 7, 2, 5, 6, 9, 4, 3, 5, 5, 8, 9, 6, 1, 2,\n",
       "       0, 7, 9, 2, 7, 8, 1, 6, 0, 4, 1, 5, 2, 4, 2, 9, 9, 8, 1, 8, 5, 9,\n",
       "       0, 6, 9, 7, 6, 0, 3, 6, 8, 3, 9, 8, 5, 9, 4, 4, 0, 4, 8, 9, 9, 7,\n",
       "       5, 5, 3, 6, 6, 9, 8, 9, 7, 8, 0, 8, 8, 0, 4, 0, 3, 5, 3, 5, 1, 7,\n",
       "       0, 4, 5, 8, 7, 9, 7, 6, 7, 1, 4, 6, 8, 4, 6, 6, 2, 2, 8, 9, 4, 0,\n",
       "       4, 3, 7, 5, 4, 9, 8, 5, 1, 8, 6, 7, 5, 0, 9, 3, 4, 6, 5, 9, 0, 6,\n",
       "       4, 8, 7, 1, 1, 7, 2, 9, 5, 8, 8, 9, 7, 4, 9, 6, 7, 4, 6, 9, 0, 0,\n",
       "       1, 2, 7, 2, 0, 3, 9, 1, 6, 3, 3, 1, 6, 6, 5, 6, 1, 3, 0, 2, 9, 3,\n",
       "       3, 9, 6, 0, 0, 3, 5, 3, 8, 2, 6, 3, 5, 6, 1, 3, 0, 7, 0, 7, 0, 8,\n",
       "       6, 2, 4, 1, 9, 8, 4, 2, 6, 9, 2, 6, 0, 1, 7, 7, 1, 5, 5, 4, 4, 4,\n",
       "       0, 5, 4, 4, 3, 5, 3, 9, 4, 5, 7, 0, 5, 4, 9, 5, 4, 8, 9, 7, 2, 4,\n",
       "       5, 8, 0, 8, 9, 3, 6, 4, 2, 3, 6, 9, 6, 8, 6, 8, 6, 4, 8, 9, 1, 2,\n",
       "       0, 4, 3, 0, 7, 5, 6, 5, 2, 3, 1, 2, 8, 9, 4, 7, 1, 0, 2, 7, 7, 5,\n",
       "       4, 0, 7, 8, 7, 6, 5, 4, 4, 4, 2, 4, 1, 7, 7, 3, 2, 6, 5, 6, 1, 9,\n",
       "       2, 7, 4, 4, 6, 7, 6, 8, 2, 6, 5, 5, 1, 1, 7, 8, 5, 2, 4, 0, 6, 2,\n",
       "       1, 3, 6, 8, 6, 8, 7, 9, 0, 1, 5, 1, 4, 3, 1, 0, 2, 6, 3, 7, 7, 5,\n",
       "       7, 2, 1, 3, 2, 7, 3, 2, 2, 7, 4, 4, 7, 2, 6, 0, 9, 9, 5, 2, 6, 5,\n",
       "       6, 7, 3, 1, 8, 8, 0, 7, 5, 9, 7, 2, 8, 8, 9, 2, 7, 0, 5, 7, 6, 3,\n",
       "       4, 7, 0, 4, 9, 4, 3, 5, 7, 0, 6, 1, 1, 2, 9, 2, 3, 9, 8, 8, 2, 1,\n",
       "       6, 1, 5, 6, 6, 0, 1, 7, 3, 2, 8, 1, 4, 7, 5, 1, 1, 5, 8, 4, 3, 3,\n",
       "       0, 6, 0, 2, 5, 8, 9, 0, 4, 7, 6, 4, 6, 9, 9, 1, 3, 1, 8, 4, 9, 2,\n",
       "       8, 8, 6, 5, 9, 1, 6, 7, 0, 5, 2, 7, 1, 2, 4, 7, 5, 1, 0, 5, 2, 7,\n",
       "       9, 8, 5, 7, 7, 4, 3, 8, 1, 3, 4, 6, 9, 3, 3, 2, 1, 6, 9, 8, 3, 3,\n",
       "       1, 4, 6, 1, 6, 5, 5, 2, 1, 3, 6, 0, 9, 2, 4])"
      ]
     },
     "execution_count": 15,
     "metadata": {},
     "output_type": "execute_result"
    }
   ],
   "source": [
    "model.predict(x_test)"
   ]
  },
  {
   "cell_type": "code",
   "execution_count": 16,
   "metadata": {},
   "outputs": [
    {
     "data": {
      "text/plain": [
       "0.9554937413073713"
      ]
     },
     "execution_count": 16,
     "metadata": {},
     "output_type": "execute_result"
    }
   ],
   "source": [
    "model.score(x_test,y_test)"
   ]
  },
  {
   "cell_type": "code",
   "execution_count": 17,
   "metadata": {},
   "outputs": [
    {
     "data": {
      "text/plain": [
       "<matplotlib.image.AxesImage at 0x1f989fbce48>"
      ]
     },
     "execution_count": 17,
     "metadata": {},
     "output_type": "execute_result"
    },
    {
     "data": {
      "image/png": "[encoded data removed]",
      "text/plain": [
       "<Figure size 288x288 with 1 Axes>"
      ]
     },
     "metadata": {
      "needs_background": "light"
     },
     "output_type": "display_data"
    }
   ],
   "source": [
    "plt.matshow(digits.images[110])"
   ]
  },
  {
   "cell_type": "code",
   "execution_count": 18,
   "metadata": {},
   "outputs": [
    {
     "data": {
      "text/plain": [
       "4"
      ]
     },
     "execution_count": 18,
     "metadata": {},
     "output_type": "execute_result"
    }
   ],
   "source": [
    "digits.target[110]"
   ]
  },
  {
   "cell_type": "code",
   "execution_count": 19,
   "metadata": {},
   "outputs": [
    {
     "data": {
      "text/plain": [
       "array([4])"
      ]
     },
     "execution_count": 19,
     "metadata": {},
     "output_type": "execute_result"
    }
   ],
   "source": [
    "model.predict([digits.data[110]] )"
   ]
  },
  {
   "cell_type": "code",
   "execution_count": 20,
   "metadata": {},
   "outputs": [],
   "source": [
    "y_predict = model.predict(x_test)\n"
   ]
  },
  {
   "cell_type": "code",
   "execution_count": 21,
   "metadata": {},
   "outputs": [
    {
     "data": {
      "text/plain": [
       "array([[66,  0,  0,  0,  0,  0,  0,  0,  0,  0],\n",
       "       [ 0, 57,  0,  0,  0,  1,  0,  0,  3,  0],\n",
       "       [ 0,  0, 71,  3,  0,  0,  0,  0,  1,  0],\n",
       "       [ 0,  0,  0, 68,  0,  1,  0,  2,  1,  1],\n",
       "       [ 0,  1,  0,  0, 74,  0,  0,  0,  0,  0],\n",
       "       [ 0,  0,  0,  0,  0, 73,  0,  0,  1,  4],\n",
       "       [ 0,  0,  0,  0,  0,  0, 80,  0,  1,  0],\n",
       "       [ 0,  0,  0,  0,  2,  0,  0, 73,  0,  0],\n",
       "       [ 0,  1,  1,  0,  0,  0,  0,  0, 58,  0],\n",
       "       [ 0,  3,  0,  0,  0,  0,  0,  3,  2, 67]], dtype=int64)"
      ]
     },
     "execution_count": 21,
     "metadata": {},
     "output_type": "execute_result"
    }
   ],
   "source": [
    "from sklearn.metrics import confusion_matrix\n",
    "\n",
    "cm = confusion_matrix(y_test, y_predict)\n",
    "cm"
   ]
  },
  {
   "cell_type": "code",
   "execution_count": 22,
   "metadata": {},
   "outputs": [
    {
     "data": {
      "text/plain": [
       "Text(69.0, 0.5, 'truth')"
      ]
     },
     "execution_count": 22,
     "metadata": {},
     "output_type": "execute_result"
    },
    {
     "data": {
      "image/png": "[encoded data removed]",
      "text/plain": [
       "<Figure size 720x504 with 2 Axes>"
      ]
     },
     "metadata": {
      "needs_background": "light"
     },
     "output_type": "display_data"
    }
   ],
   "source": [
    "import seaborn as sn\n",
    "plt.figure(figsize = (10,7))\n",
    "sn.heatmap(cm, annot = True)\n",
    "plt.xlabel(\"predicted\")\n",
    "plt.ylabel(\"truth\")"
   ]
  },
  {
   "cell_type": "markdown",
   "metadata": {},
   "source": [
    "# knn"
   ]
  },
  {
   "cell_type": "code",
   "execution_count": 23,
   "metadata": {},
   "outputs": [],
   "source": [
    "from sklearn.neighbors import KNeighborsClassifier\n",
    "clf=KNeighborsClassifier(n_neighbors=3).fit(x_train,y_train)"
   ]
  },
  {
   "cell_type": "code",
   "execution_count": 24,
   "metadata": {},
   "outputs": [
    {
     "data": {
      "text/plain": [
       "array([4])"
      ]
     },
     "execution_count": 24,
     "metadata": {},
     "output_type": "execute_result"
    }
   ],
   "source": [
    "clf.predict([digits.data[110]])"
   ]
  },
  {
   "cell_type": "code",
   "execution_count": 25,
   "metadata": {},
   "outputs": [
    {
     "data": {
      "text/plain": [
       "4"
      ]
     },
     "execution_count": 25,
     "metadata": {},
     "output_type": "execute_result"
    }
   ],
   "source": [
    "digits.target[110]"
   ]
  },
  {
   "cell_type": "code",
   "execution_count": 26,
   "metadata": {},
   "outputs": [
    {
     "data": {
      "text/plain": [
       "array([4, 0, 5, 4, 2, 5, 6, 5, 7, 1, 0, 3, 7, 5, 3, 4, 0, 0, 4, 1, 2, 9,\n",
       "       7, 3, 3, 2, 7, 2, 0, 2, 5, 7, 2, 2, 8, 3, 9, 8, 0, 5, 1, 9, 0, 1,\n",
       "       7, 6, 6, 3, 3, 8, 6, 8, 7, 3, 4, 3, 4, 9, 9, 7, 8, 9, 8, 8, 1, 1,\n",
       "       4, 9, 0, 0, 9, 2, 3, 7, 4, 2, 3, 3, 9, 5, 0, 8, 3, 2, 5, 5, 6, 6,\n",
       "       5, 2, 8, 2, 0, 6, 6, 6, 0, 2, 0, 4, 5, 7, 9, 0, 0, 2, 0, 1, 8, 3,\n",
       "       5, 2, 5, 1, 9, 1, 3, 5, 6, 4, 7, 4, 2, 4, 2, 0, 2, 8, 2, 3, 2, 3,\n",
       "       9, 2, 9, 3, 8, 7, 8, 4, 9, 7, 7, 6, 4, 5, 9, 7, 6, 9, 3, 8, 6, 6,\n",
       "       0, 2, 1, 2, 6, 0, 9, 6, 7, 1, 4, 7, 3, 1, 3, 4, 0, 7, 5, 3, 5, 8,\n",
       "       3, 3, 4, 6, 5, 3, 9, 5, 1, 5, 3, 9, 2, 7, 4, 3, 7, 6, 5, 6, 9, 7,\n",
       "       9, 4, 3, 0, 1, 3, 2, 0, 7, 2, 5, 6, 9, 4, 3, 5, 5, 4, 9, 6, 1, 2,\n",
       "       0, 7, 9, 2, 7, 8, 1, 6, 0, 4, 1, 5, 2, 4, 2, 9, 9, 8, 9, 8, 5, 9,\n",
       "       0, 6, 9, 7, 6, 0, 3, 6, 8, 3, 9, 8, 1, 9, 4, 4, 0, 4, 8, 9, 5, 7,\n",
       "       5, 5, 3, 6, 6, 9, 8, 9, 7, 8, 0, 8, 1, 0, 4, 0, 3, 5, 3, 5, 1, 9,\n",
       "       0, 4, 5, 8, 7, 9, 7, 6, 7, 1, 4, 6, 8, 4, 6, 6, 8, 2, 8, 9, 4, 0,\n",
       "       4, 3, 7, 5, 4, 9, 8, 5, 1, 8, 6, 7, 5, 0, 9, 3, 4, 6, 5, 9, 0, 6,\n",
       "       4, 8, 7, 1, 1, 7, 2, 9, 5, 8, 8, 9, 7, 4, 9, 6, 7, 4, 6, 3, 0, 0,\n",
       "       1, 2, 7, 2, 0, 3, 9, 1, 6, 3, 3, 1, 6, 6, 5, 6, 1, 3, 0, 2, 9, 2,\n",
       "       3, 9, 6, 0, 0, 3, 5, 3, 8, 2, 6, 3, 5, 6, 1, 3, 0, 7, 0, 7, 0, 8,\n",
       "       6, 2, 4, 1, 9, 8, 4, 2, 6, 5, 2, 6, 0, 1, 7, 7, 1, 5, 5, 4, 4, 4,\n",
       "       0, 5, 4, 4, 3, 5, 3, 9, 4, 5, 7, 0, 5, 4, 7, 5, 4, 8, 9, 7, 2, 4,\n",
       "       5, 8, 0, 8, 9, 3, 6, 4, 2, 3, 6, 9, 6, 8, 6, 5, 6, 4, 8, 5, 4, 2,\n",
       "       0, 4, 3, 0, 9, 5, 6, 5, 2, 3, 1, 2, 8, 9, 4, 7, 1, 0, 2, 7, 7, 5,\n",
       "       4, 0, 7, 2, 7, 6, 5, 4, 4, 4, 2, 4, 1, 7, 7, 3, 2, 6, 5, 6, 1, 9,\n",
       "       2, 7, 4, 4, 6, 7, 6, 8, 2, 6, 5, 5, 1, 1, 7, 8, 5, 2, 4, 0, 6, 2,\n",
       "       1, 3, 6, 8, 6, 8, 7, 8, 0, 1, 5, 8, 4, 3, 1, 0, 2, 6, 3, 7, 7, 5,\n",
       "       7, 2, 1, 3, 2, 7, 3, 2, 2, 7, 7, 4, 7, 2, 6, 0, 9, 9, 5, 2, 6, 5,\n",
       "       6, 7, 3, 1, 8, 8, 0, 7, 5, 9, 7, 2, 1, 8, 9, 2, 7, 0, 5, 7, 6, 3,\n",
       "       4, 7, 0, 4, 9, 4, 3, 5, 7, 0, 6, 1, 1, 2, 9, 2, 3, 9, 8, 8, 2, 1,\n",
       "       6, 1, 5, 6, 6, 0, 1, 7, 3, 2, 8, 1, 4, 7, 5, 1, 1, 5, 8, 4, 3, 3,\n",
       "       0, 6, 0, 2, 5, 9, 9, 0, 4, 7, 6, 4, 6, 9, 9, 1, 3, 1, 8, 4, 9, 2,\n",
       "       8, 8, 6, 5, 9, 1, 6, 7, 0, 5, 2, 9, 1, 2, 4, 7, 5, 1, 0, 5, 2, 7,\n",
       "       9, 8, 5, 7, 7, 4, 3, 8, 1, 3, 4, 6, 9, 3, 2, 2, 1, 6, 9, 8, 3, 3,\n",
       "       1, 4, 6, 1, 6, 5, 5, 2, 1, 3, 6, 0, 9, 2, 4])"
      ]
     },
     "execution_count": 26,
     "metadata": {},
     "output_type": "execute_result"
    }
   ],
   "source": [
    "clf.predict(x_test)"
   ]
  },
  {
   "cell_type": "code",
   "execution_count": 27,
   "metadata": {},
   "outputs": [
    {
     "data": {
      "text/plain": [
       "0.9874826147426982"
      ]
     },
     "execution_count": 27,
     "metadata": {},
     "output_type": "execute_result"
    }
   ],
   "source": [
    "clf.score(x_test,y_test)"
   ]
  },
  {
   "cell_type": "markdown",
   "metadata": {},
   "source": [
    "# SVM"
   ]
  },
  {
   "cell_type": "code",
   "execution_count": 28,
   "metadata": {},
   "outputs": [],
   "source": [
    "from sklearn import svm"
   ]
  },
  {
   "cell_type": "code",
   "execution_count": 29,
   "metadata": {},
   "outputs": [
    {
     "data": {
      "text/plain": [
       "SVC(C=2, cache_size=200, class_weight=None, coef0=0.0,\n",
       "    decision_function_shape='ovr', degree=3, gamma='auto', kernel='linear',\n",
       "    max_iter=-1, probability=False, random_state=None, shrinking=True,\n",
       "    tol=0.001, verbose=False)"
      ]
     },
     "execution_count": 29,
     "metadata": {},
     "output_type": "execute_result"
    }
   ],
   "source": [
    "sclf = svm.SVC(kernel='linear', gamma='auto', C=2)\n",
    "sclf.fit(x_train,y_train)"
   ]
  },
  {
   "cell_type": "code",
   "execution_count": 30,
   "metadata": {},
   "outputs": [
    {
     "data": {
      "text/plain": [
       "array([4])"
      ]
     },
     "execution_count": 30,
     "metadata": {},
     "output_type": "execute_result"
    }
   ],
   "source": [
    "sclf.predict([digits.data[110]])"
   ]
  },
  {
   "cell_type": "code",
   "execution_count": 31,
   "metadata": {},
   "outputs": [
    {
     "data": {
      "text/plain": [
       "4"
      ]
     },
     "execution_count": 31,
     "metadata": {},
     "output_type": "execute_result"
    }
   ],
   "source": [
    "digits.target[110]"
   ]
  },
  {
   "cell_type": "code",
   "execution_count": 32,
   "metadata": {},
   "outputs": [
    {
     "data": {
      "text/plain": [
       "array([4, 0, 5, 4, 2, 5, 6, 5, 7, 1, 0, 8, 7, 5, 3, 4, 0, 0, 4, 1, 2, 9,\n",
       "       7, 3, 3, 2, 7, 2, 0, 2, 5, 7, 2, 2, 8, 3, 9, 8, 0, 5, 1, 9, 0, 1,\n",
       "       7, 6, 6, 3, 3, 8, 6, 4, 7, 3, 4, 3, 4, 9, 9, 7, 8, 9, 8, 6, 1, 1,\n",
       "       4, 9, 0, 0, 9, 2, 3, 7, 4, 2, 3, 3, 9, 5, 0, 8, 3, 2, 5, 5, 6, 6,\n",
       "       5, 2, 8, 2, 0, 6, 6, 6, 0, 2, 0, 4, 5, 7, 9, 0, 0, 2, 0, 1, 8, 3,\n",
       "       5, 2, 5, 1, 9, 1, 3, 5, 6, 4, 7, 4, 2, 4, 2, 0, 2, 8, 2, 3, 2, 3,\n",
       "       9, 2, 9, 3, 8, 7, 8, 4, 9, 7, 7, 6, 4, 5, 9, 7, 1, 9, 3, 8, 6, 6,\n",
       "       0, 2, 1, 2, 6, 0, 9, 6, 4, 1, 4, 7, 3, 1, 3, 4, 0, 7, 5, 3, 5, 8,\n",
       "       3, 3, 4, 6, 5, 3, 9, 5, 8, 5, 3, 9, 2, 7, 4, 3, 7, 6, 5, 6, 9, 7,\n",
       "       9, 4, 3, 0, 1, 3, 2, 0, 7, 2, 5, 6, 9, 4, 3, 5, 5, 7, 9, 6, 1, 2,\n",
       "       0, 7, 9, 2, 7, 8, 1, 6, 0, 4, 1, 5, 2, 4, 2, 9, 9, 8, 1, 8, 5, 9,\n",
       "       0, 6, 9, 7, 6, 0, 3, 6, 8, 3, 9, 8, 1, 9, 4, 4, 0, 4, 8, 9, 9, 7,\n",
       "       5, 5, 3, 6, 6, 9, 8, 9, 7, 8, 0, 8, 8, 0, 4, 0, 3, 5, 3, 5, 1, 9,\n",
       "       0, 4, 5, 8, 7, 5, 7, 6, 7, 1, 4, 6, 8, 4, 6, 6, 8, 2, 8, 9, 4, 0,\n",
       "       4, 3, 7, 5, 4, 9, 8, 5, 1, 8, 6, 7, 5, 0, 9, 3, 4, 6, 5, 9, 0, 6,\n",
       "       4, 8, 7, 1, 1, 7, 2, 9, 5, 8, 8, 9, 7, 4, 9, 6, 7, 4, 6, 9, 0, 0,\n",
       "       1, 2, 7, 2, 0, 3, 9, 1, 6, 3, 3, 1, 6, 6, 5, 6, 1, 3, 0, 2, 9, 2,\n",
       "       3, 9, 6, 0, 0, 3, 5, 3, 8, 2, 6, 3, 5, 6, 1, 3, 0, 7, 0, 7, 0, 8,\n",
       "       6, 2, 4, 1, 9, 8, 4, 2, 6, 5, 2, 6, 0, 1, 7, 7, 1, 5, 5, 4, 4, 4,\n",
       "       0, 5, 4, 4, 3, 5, 3, 9, 4, 5, 3, 0, 5, 4, 8, 5, 4, 8, 9, 7, 2, 4,\n",
       "       5, 8, 0, 8, 9, 3, 6, 4, 2, 3, 6, 9, 6, 8, 6, 9, 6, 4, 8, 3, 4, 2,\n",
       "       0, 4, 3, 0, 9, 5, 6, 5, 2, 3, 1, 2, 8, 9, 4, 7, 1, 0, 2, 7, 7, 5,\n",
       "       4, 0, 7, 2, 7, 6, 5, 4, 4, 4, 2, 4, 1, 7, 7, 3, 2, 6, 5, 6, 1, 9,\n",
       "       2, 7, 4, 4, 6, 7, 6, 8, 2, 6, 5, 5, 1, 1, 7, 8, 5, 2, 4, 0, 6, 2,\n",
       "       1, 3, 6, 8, 6, 8, 7, 9, 0, 1, 5, 1, 4, 3, 1, 0, 2, 6, 3, 7, 7, 5,\n",
       "       7, 2, 1, 3, 2, 7, 3, 2, 2, 7, 4, 4, 7, 2, 6, 0, 9, 9, 5, 2, 6, 5,\n",
       "       6, 7, 3, 1, 8, 8, 0, 7, 5, 9, 7, 2, 1, 8, 9, 2, 7, 0, 5, 7, 6, 3,\n",
       "       4, 7, 0, 4, 3, 4, 3, 5, 7, 0, 6, 1, 1, 2, 9, 2, 3, 9, 8, 8, 2, 1,\n",
       "       6, 1, 5, 6, 6, 0, 1, 7, 3, 2, 8, 1, 4, 7, 5, 1, 1, 5, 8, 4, 3, 3,\n",
       "       0, 6, 0, 2, 5, 9, 9, 0, 4, 7, 6, 4, 6, 9, 9, 1, 3, 1, 8, 4, 9, 2,\n",
       "       8, 8, 6, 5, 9, 1, 6, 7, 0, 5, 2, 9, 1, 2, 4, 7, 5, 1, 0, 5, 2, 7,\n",
       "       9, 8, 5, 7, 7, 4, 3, 8, 1, 3, 4, 6, 9, 3, 2, 2, 1, 6, 9, 8, 3, 3,\n",
       "       1, 4, 6, 1, 6, 5, 5, 2, 1, 3, 6, 0, 9, 2, 4])"
      ]
     },
     "execution_count": 32,
     "metadata": {},
     "output_type": "execute_result"
    }
   ],
   "source": [
    "sclf.predict(x_test)\n",
    "  \n",
    "    tyu"
   ]
  },
  {
   "cell_type": "code",
   "execution_count": 33,
   "metadata": {},
   "outputs": [
    {
     "data": {
      "text/plain": [
       "0.9763560500695411"
      ]
     },
     "execution_count": 33,
     "metadata": {},
     "output_type": "execute_result"
    }
   ],
   "source": [
    "sclf.score(x_test,y_test)"
   ]
  },
  {
   "cell_type": "code",
   "execution_count": null,
   "metadata": {},
   "outputs": [],
   "source": []
  }
 ],
 "metadata": {
  "kernelspec": {
   "display_name": "Python 3",
   "language": "python",
   "name": "python3"
  },
  "language_info": {
   "codemirror_mode": {
    "name": "ipython",
    "version": 3
   },
   "file_extension": ".py",
   "mimetype": "text/x-python",
   "name": "python",
   "nbconvert_exporter": "python",
   "pygments_lexer": "ipython3",
   "version": "3.7.4"
  }
 },
 "nbformat": 4,
 "nbformat_minor": 2
}
